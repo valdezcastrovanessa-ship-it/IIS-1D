{
  "nbformat": 4,
  "nbformat_minor": 0,
  "metadata": {
    "colab": {
      "provenance": [],
      "authorship_tag": "ABX9TyOvRjEcO4/Y/Gl+624GgTIe",
      "include_colab_link": true
    },
    "kernelspec": {
      "name": "python3",
      "display_name": "Python 3"
    },
    "language_info": {
      "name": "python"
    }
  },
  "cells": [
    {
      "cell_type": "markdown",
      "metadata": {
        "id": "view-in-github",
        "colab_type": "text"
      },
      "source": [
        "<a href=\"https://colab.research.google.com/github/valdezcastrovanessa-ship-it/IIS-1D/blob/main/Copia_de_Untitled1.ipynb\" target=\"_parent\"><img src=\"https://colab.research.google.com/assets/colab-badge.svg\" alt=\"Open In Colab\"/></a>"
      ]
    },
    {
      "cell_type": "code",
      "execution_count": null,
      "metadata": {
        "id": "zNKbvxI5ICz9",
        "colab": {
          "base_uri": "https://localhost:8080/"
        },
        "outputId": "98e9a09d-31e4-4b05-8453-f43f057f7d86"
      },
      "outputs": [
        {
          "output_type": "stream",
          "name": "stdout",
          "text": [
            "Memento amori\n"
          ]
        }
      ],
      "source": [
        "print(\"Memento amori\")"
      ]
    }
  ]
}